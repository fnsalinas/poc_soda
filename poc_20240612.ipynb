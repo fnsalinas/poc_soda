{
 "cells": [
  {
   "cell_type": "code",
   "execution_count": null,
   "metadata": {
    "collapsed": true,
    "jupyter": {
     "outputs_hidden": true
    }
   },
   "outputs": [],
   "source": [
    "!pip install -r requirements_nuevo.txt"
   ]
  },
  {
   "cell_type": "code",
   "execution_count": null,
   "metadata": {
    "collapsed": true,
    "jupyter": {
     "outputs_hidden": true
    }
   },
   "outputs": [],
   "source": [
    "/opt/cortex-installs/miniconda/envs/cortex-python3/bin//python -m pip install requests\n",
    "/opt/cortex-installs/miniconda/envs/cortex-python3/bin//python -m pip install pandas\n",
    "/opt/cortex-installs/miniconda/envs/cortex-python3/bin//python -m pip install psycopg2-binary\n",
    "/opt/cortex-installs/miniconda/envs/cortex-python3/bin//python -m pip install soda-core-contracts\n",
    "/opt/cortex-installs/miniconda/envs/cortex-python3/bin//python -m pip install soda-core-postgres\n",
    "/opt/cortex-installs/miniconda/envs/cortex-python3/bin//python -m pip install python-dotenv\n",
    "/opt/cortex-installs/miniconda/envs/cortex-python3/bin//python -m pip install pyyaml"
   ]
  },
  {
   "cell_type": "code",
   "execution_count": null,
   "metadata": {},
   "outputs": [],
   "source": [
    "!pip install requests\n",
    "!pip install pandas\n",
    "!pip install psycopg2-binary\n",
    "!pip install soda-core-contracts\n",
    "!pip install soda-core-postgres\n",
    "!pip install python-dotenv\n",
    "!pip install pyyaml"
   ]
  },
  {
   "cell_type": "code",
   "execution_count": null,
   "metadata": {},
   "outputs": [],
   "source": [
    "pip install --index-url https://pypi.cloud.soda.io/simple/ soda-scientific       "
   ]
  },
  {
   "cell_type": "code",
   "execution_count": null,
   "metadata": {
    "collapsed": true,
    "jupyter": {
     "outputs_hidden": true
    }
   },
   "outputs": [],
   "source": [
    "!pip list"
   ]
  },
  {
   "cell_type": "code",
   "execution_count": null,
   "metadata": {},
   "outputs": [],
   "source": [
    "!which python"
   ]
  },
  {
   "cell_type": "code",
   "execution_count": null,
   "metadata": {},
   "outputs": [],
   "source": [
    "!/opt/cortex-installs/miniconda/envs/cortex-python3/bin//python --version"
   ]
  },
  {
   "cell_type": "code",
   "execution_count": 3,
   "metadata": {
    "collapsed": true,
    "jupyter": {
     "outputs_hidden": true
    }
   },
   "outputs": [
    {
     "name": "stdout",
     "output_type": "stream",
     "text": [
      "Looking in indexes: https://repo.forge.lmig.com/api/pypi/python/simple\n",
      "Requirement already satisfied: requests in /opt/cortex-installs/miniconda/envs/cortex-python3/lib/python3.12/site-packages (2.32.3)\n",
      "Requirement already satisfied: charset-normalizer<4,>=2 in /opt/cortex-installs/miniconda/envs/cortex-python3/lib/python3.12/site-packages (from requests) (3.3.2)\n",
      "Requirement already satisfied: idna<4,>=2.5 in /opt/cortex-installs/miniconda/envs/cortex-python3/lib/python3.12/site-packages (from requests) (3.7)\n",
      "Requirement already satisfied: urllib3<3,>=1.21.1 in /opt/cortex-installs/miniconda/envs/cortex-python3/lib/python3.12/site-packages (from requests) (2.2.2)\n",
      "Requirement already satisfied: certifi>=2017.4.17 in /opt/cortex-installs/miniconda/envs/cortex-python3/lib/python3.12/site-packages (from requests) (2024.7.4)\n",
      "Looking in indexes: https://repo.forge.lmig.com/api/pypi/python/simple\n",
      "Requirement already satisfied: pandas in /opt/cortex-installs/miniconda/envs/cortex-python3/lib/python3.12/site-packages (2.2.2)\n",
      "Requirement already satisfied: numpy>=1.26.0 in /opt/cortex-installs/miniconda/envs/cortex-python3/lib/python3.12/site-packages (from pandas) (2.0.1)\n",
      "Requirement already satisfied: python-dateutil>=2.8.2 in /opt/cortex-installs/miniconda/envs/cortex-python3/lib/python3.12/site-packages (from pandas) (2.9.0.post0)\n",
      "Requirement already satisfied: pytz>=2020.1 in /opt/cortex-installs/miniconda/envs/cortex-python3/lib/python3.12/site-packages (from pandas) (2024.1)\n",
      "Requirement already satisfied: tzdata>=2022.7 in /opt/cortex-installs/miniconda/envs/cortex-python3/lib/python3.12/site-packages (from pandas) (2024.1)\n",
      "Requirement already satisfied: six>=1.5 in /opt/cortex-installs/miniconda/envs/cortex-python3/lib/python3.12/site-packages (from python-dateutil>=2.8.2->pandas) (1.16.0)\n",
      "Looking in indexes: https://repo.forge.lmig.com/api/pypi/python/simple\n",
      "Requirement already satisfied: psycopg2-binary in /opt/cortex-installs/miniconda/envs/cortex-python3/lib/python3.12/site-packages (2.9.9)\n",
      "\u001b[31mERROR: Invalid requirement: 'soda-core-contracts=3.2.1'\n",
      "Hint: = is not a valid operator. Did you mean == ?\u001b[0m\u001b[31m\n",
      "\u001b[0m\u001b[31mERROR: Invalid requirement: 'soda-core-postgres=3.2.1'\n",
      "Hint: = is not a valid operator. Did you mean == ?\u001b[0m\u001b[31m\n",
      "\u001b[0mLooking in indexes: https://repo.forge.lmig.com/api/pypi/python/simple\n",
      "Requirement already satisfied: python-dotenv in /opt/cortex-installs/miniconda/envs/cortex-python3/lib/python3.12/site-packages (1.0.1)\n",
      "Looking in indexes: https://repo.forge.lmig.com/api/pypi/python/simple\n",
      "Requirement already satisfied: pyyaml in /opt/cortex-installs/miniconda/envs/cortex-python3/lib/python3.12/site-packages (6.0.1)\n",
      "Looking in indexes: https://repo.forge.lmig.com/api/pypi/python/simple\n",
      "Collecting soda-core-redshift\n",
      "  Using cached https://repo.forge.lmig.com/api/pypi/python/packages/packages/61/31/9e5080c9ac521f1099e9e2b448d293768d8a388af1aed2099c9ad22ded63/soda_core_redshift-3.3.13-py3-none-any.whl (6.9 kB)\n",
      "Collecting soda-core==3.3.13 (from soda-core-redshift)\n",
      "  Using cached https://repo.forge.lmig.com/api/pypi/python/packages/packages/0e/d3/75cee09508df12a7caf8fe5589d8e0b6cdb5fb7ae1f88e708f4836be9de1/soda_core-3.3.13-py3-none-any.whl (196 kB)\n",
      "Collecting boto3 (from soda-core-redshift)\n",
      "  Downloading https://repo.forge.lmig.com/api/pypi/python/packages/packages/fb/e7/3e471493b67ea3814345827eabd2da4cedbaebe61a1b7538db3e84f53c67/boto3-1.34.151-py3-none-any.whl (139 kB)\n",
      "\u001b[2K     \u001b[90m━━━━━━━━━━━━━━━━━━━━━━━━━━━━━━━━━━━━━━\u001b[0m \u001b[32m139.2/139.2 kB\u001b[0m \u001b[31m13.4 MB/s\u001b[0m eta \u001b[36m0:00:00\u001b[0m\n",
      "\u001b[?25hRequirement already satisfied: psycopg2-binary<3.0,>=2.8.5 in /opt/cortex-installs/miniconda/envs/cortex-python3/lib/python3.12/site-packages (from soda-core-redshift) (2.9.9)\n",
      "Requirement already satisfied: markupsafe<=2.1.2,>=2.0.1 in /opt/cortex-installs/miniconda/envs/cortex-python3/lib/python3.12/site-packages (from soda-core==3.3.13->soda-core-redshift) (2.1.2)\n",
      "Requirement already satisfied: Jinja2<4.0,>=2.11 in /opt/cortex-installs/miniconda/envs/cortex-python3/lib/python3.12/site-packages (from soda-core==3.3.13->soda-core-redshift) (3.1.4)\n",
      "Requirement already satisfied: click~=8.0 in /opt/cortex-installs/miniconda/envs/cortex-python3/lib/python3.12/site-packages (from soda-core==3.3.13->soda-core-redshift) (8.1.7)\n",
      "Requirement already satisfied: ruamel.yaml<0.18.0,>=0.17.0 in /opt/cortex-installs/miniconda/envs/cortex-python3/lib/python3.12/site-packages (from soda-core==3.3.13->soda-core-redshift) (0.17.40)\n",
      "Requirement already satisfied: requests~=2.30 in /opt/cortex-installs/miniconda/envs/cortex-python3/lib/python3.12/site-packages (from soda-core==3.3.13->soda-core-redshift) (2.32.3)\n",
      "Requirement already satisfied: antlr4-python3-runtime~=4.11.1 in /opt/cortex-installs/miniconda/envs/cortex-python3/lib/python3.12/site-packages (from soda-core==3.3.13->soda-core-redshift) (4.11.1)\n",
      "Requirement already satisfied: opentelemetry-api<1.23.0,>=1.16.0 in /opt/cortex-installs/miniconda/envs/cortex-python3/lib/python3.12/site-packages (from soda-core==3.3.13->soda-core-redshift) (1.22.0)\n",
      "Requirement already satisfied: opentelemetry-exporter-otlp-proto-http<1.23.0,>=1.16.0 in /opt/cortex-installs/miniconda/envs/cortex-python3/lib/python3.12/site-packages (from soda-core==3.3.13->soda-core-redshift) (1.22.0)\n",
      "Requirement already satisfied: sqlparse~=0.4 in /opt/cortex-installs/miniconda/envs/cortex-python3/lib/python3.12/site-packages (from soda-core==3.3.13->soda-core-redshift) (0.5.1)\n",
      "Requirement already satisfied: inflect~=7.0 in /opt/cortex-installs/miniconda/envs/cortex-python3/lib/python3.12/site-packages (from soda-core==3.3.13->soda-core-redshift) (7.3.1)\n",
      "Requirement already satisfied: pydantic<3.0.0,>=2.0.0 in /opt/cortex-installs/miniconda/envs/cortex-python3/lib/python3.12/site-packages (from soda-core==3.3.13->soda-core-redshift) (2.8.2)\n",
      "Collecting botocore<1.35.0,>=1.34.151 (from boto3->soda-core-redshift)\n",
      "  Downloading https://repo.forge.lmig.com/api/pypi/python/packages/packages/c6/88/969a427b0b2f244568485c3a2605b9fedb6ee1c374d48543b894852e5f18/botocore-1.34.151-py3-none-any.whl (12.4 MB)\n",
      "\u001b[2K     \u001b[90m━━━━━━━━━━━━━━━━━━━━━━━━━━━━━━━━━━━━━━━\u001b[0m \u001b[32m12.4/12.4 MB\u001b[0m \u001b[31m100.1 MB/s\u001b[0m eta \u001b[36m0:00:00\u001b[0m00:01\u001b[0m00:01\u001b[0m\n",
      "\u001b[?25hCollecting jmespath<2.0.0,>=0.7.1 (from boto3->soda-core-redshift)\n",
      "  Using cached https://repo.forge.lmig.com/api/pypi/python/packages/packages/31/b4/b9b800c45527aadd64d5b442f9b932b00648617eb5d63d2c7a6587b7cafc/jmespath-1.0.1-py3-none-any.whl (20 kB)\n",
      "Collecting s3transfer<0.11.0,>=0.10.0 (from boto3->soda-core-redshift)\n",
      "  Using cached https://repo.forge.lmig.com/api/pypi/python/packages/packages/3c/4a/b221409913760d26cf4498b7b1741d510c82d3ad38381984a3ddc135ec66/s3transfer-0.10.2-py3-none-any.whl (82 kB)\n",
      "Requirement already satisfied: python-dateutil<3.0.0,>=2.1 in /opt/cortex-installs/miniconda/envs/cortex-python3/lib/python3.12/site-packages (from botocore<1.35.0,>=1.34.151->boto3->soda-core-redshift) (2.9.0.post0)\n",
      "Requirement already satisfied: urllib3!=2.2.0,<3,>=1.25.4 in /opt/cortex-installs/miniconda/envs/cortex-python3/lib/python3.12/site-packages (from botocore<1.35.0,>=1.34.151->boto3->soda-core-redshift) (2.2.2)\n",
      "Requirement already satisfied: more-itertools>=8.5.0 in /opt/cortex-installs/miniconda/envs/cortex-python3/lib/python3.12/site-packages (from inflect~=7.0->soda-core==3.3.13->soda-core-redshift) (10.3.0)\n",
      "Requirement already satisfied: typeguard>=4.0.1 in /opt/cortex-installs/miniconda/envs/cortex-python3/lib/python3.12/site-packages (from inflect~=7.0->soda-core==3.3.13->soda-core-redshift) (4.3.0)\n",
      "Requirement already satisfied: deprecated>=1.2.6 in /opt/cortex-installs/miniconda/envs/cortex-python3/lib/python3.12/site-packages (from opentelemetry-api<1.23.0,>=1.16.0->soda-core==3.3.13->soda-core-redshift) (1.2.14)\n",
      "Requirement already satisfied: importlib-metadata<7.0,>=6.0 in /opt/cortex-installs/miniconda/envs/cortex-python3/lib/python3.12/site-packages (from opentelemetry-api<1.23.0,>=1.16.0->soda-core==3.3.13->soda-core-redshift) (6.11.0)\n",
      "Requirement already satisfied: backoff<3.0.0,>=1.10.0 in /opt/cortex-installs/miniconda/envs/cortex-python3/lib/python3.12/site-packages (from opentelemetry-exporter-otlp-proto-http<1.23.0,>=1.16.0->soda-core==3.3.13->soda-core-redshift) (2.2.1)\n",
      "Requirement already satisfied: googleapis-common-protos~=1.52 in /opt/cortex-installs/miniconda/envs/cortex-python3/lib/python3.12/site-packages (from opentelemetry-exporter-otlp-proto-http<1.23.0,>=1.16.0->soda-core==3.3.13->soda-core-redshift) (1.63.2)\n",
      "Requirement already satisfied: opentelemetry-exporter-otlp-proto-common==1.22.0 in /opt/cortex-installs/miniconda/envs/cortex-python3/lib/python3.12/site-packages (from opentelemetry-exporter-otlp-proto-http<1.23.0,>=1.16.0->soda-core==3.3.13->soda-core-redshift) (1.22.0)\n",
      "Requirement already satisfied: opentelemetry-proto==1.22.0 in /opt/cortex-installs/miniconda/envs/cortex-python3/lib/python3.12/site-packages (from opentelemetry-exporter-otlp-proto-http<1.23.0,>=1.16.0->soda-core==3.3.13->soda-core-redshift) (1.22.0)\n",
      "Requirement already satisfied: opentelemetry-sdk~=1.22.0 in /opt/cortex-installs/miniconda/envs/cortex-python3/lib/python3.12/site-packages (from opentelemetry-exporter-otlp-proto-http<1.23.0,>=1.16.0->soda-core==3.3.13->soda-core-redshift) (1.22.0)\n",
      "Requirement already satisfied: protobuf<5.0,>=3.19 in /opt/cortex-installs/miniconda/envs/cortex-python3/lib/python3.12/site-packages (from opentelemetry-proto==1.22.0->opentelemetry-exporter-otlp-proto-http<1.23.0,>=1.16.0->soda-core==3.3.13->soda-core-redshift) (4.25.3)\n",
      "Requirement already satisfied: annotated-types>=0.4.0 in /opt/cortex-installs/miniconda/envs/cortex-python3/lib/python3.12/site-packages (from pydantic<3.0.0,>=2.0.0->soda-core==3.3.13->soda-core-redshift) (0.7.0)\n",
      "Requirement already satisfied: pydantic-core==2.20.1 in /opt/cortex-installs/miniconda/envs/cortex-python3/lib/python3.12/site-packages (from pydantic<3.0.0,>=2.0.0->soda-core==3.3.13->soda-core-redshift) (2.20.1)\n",
      "Requirement already satisfied: typing-extensions>=4.6.1 in /opt/cortex-installs/miniconda/envs/cortex-python3/lib/python3.12/site-packages (from pydantic<3.0.0,>=2.0.0->soda-core==3.3.13->soda-core-redshift) (4.12.2)\n",
      "Requirement already satisfied: charset-normalizer<4,>=2 in /opt/cortex-installs/miniconda/envs/cortex-python3/lib/python3.12/site-packages (from requests~=2.30->soda-core==3.3.13->soda-core-redshift) (3.3.2)\n",
      "Requirement already satisfied: idna<4,>=2.5 in /opt/cortex-installs/miniconda/envs/cortex-python3/lib/python3.12/site-packages (from requests~=2.30->soda-core==3.3.13->soda-core-redshift) (3.7)\n",
      "Requirement already satisfied: certifi>=2017.4.17 in /opt/cortex-installs/miniconda/envs/cortex-python3/lib/python3.12/site-packages (from requests~=2.30->soda-core==3.3.13->soda-core-redshift) (2024.7.4)\n",
      "Requirement already satisfied: ruamel.yaml.clib>=0.2.7 in /opt/cortex-installs/miniconda/envs/cortex-python3/lib/python3.12/site-packages (from ruamel.yaml<0.18.0,>=0.17.0->soda-core==3.3.13->soda-core-redshift) (0.2.8)\n",
      "Requirement already satisfied: wrapt<2,>=1.10 in /opt/cortex-installs/miniconda/envs/cortex-python3/lib/python3.12/site-packages (from deprecated>=1.2.6->opentelemetry-api<1.23.0,>=1.16.0->soda-core==3.3.13->soda-core-redshift) (1.16.0)\n",
      "Requirement already satisfied: zipp>=0.5 in /opt/cortex-installs/miniconda/envs/cortex-python3/lib/python3.12/site-packages (from importlib-metadata<7.0,>=6.0->opentelemetry-api<1.23.0,>=1.16.0->soda-core==3.3.13->soda-core-redshift) (3.19.2)\n",
      "Requirement already satisfied: opentelemetry-semantic-conventions==0.43b0 in /opt/cortex-installs/miniconda/envs/cortex-python3/lib/python3.12/site-packages (from opentelemetry-sdk~=1.22.0->opentelemetry-exporter-otlp-proto-http<1.23.0,>=1.16.0->soda-core==3.3.13->soda-core-redshift) (0.43b0)\n",
      "Requirement already satisfied: six>=1.5 in /opt/cortex-installs/miniconda/envs/cortex-python3/lib/python3.12/site-packages (from python-dateutil<3.0.0,>=2.1->botocore<1.35.0,>=1.34.151->boto3->soda-core-redshift) (1.16.0)\n",
      "Installing collected packages: jmespath, botocore, s3transfer, boto3, soda-core, soda-core-redshift\n",
      "  Attempting uninstall: soda-core\n",
      "    Found existing installation: soda-core 3.3.12\n",
      "    Uninstalling soda-core-3.3.12:\n",
      "      Successfully uninstalled soda-core-3.3.12\n",
      "\u001b[31mERROR: pip's dependency resolver does not currently take into account all the packages that are installed. This behaviour is the source of the following dependency conflicts.\n",
      "soda-core-contracts 3.3.12 requires soda-core==3.3.12, but you have soda-core 3.3.13 which is incompatible.\n",
      "soda-core-postgres 3.3.12 requires soda-core==3.3.12, but you have soda-core 3.3.13 which is incompatible.\u001b[0m\u001b[31m\n",
      "\u001b[0mSuccessfully installed boto3-1.34.151 botocore-1.34.151 jmespath-1.0.1 s3transfer-0.10.2 soda-core-3.3.13 soda-core-redshift-3.3.13\n"
     ]
    }
   ],
   "source": [
    "!pip install requests\n",
    "!pip install pandas\n",
    "!pip install psycopg2-binary\n",
    "!pip install soda-core-contracts='3.2.1'\n",
    "!pip install soda-core-postgres='3.2.1'\n",
    "!pip install python-dotenv\n",
    "!pip install pyyaml\n",
    "!pip install soda-core-redshift"
   ]
  },
  {
   "cell_type": "code",
   "execution_count": 10,
   "metadata": {
    "collapsed": true,
    "jupyter": {
     "outputs_hidden": true
    }
   },
   "outputs": [
    {
     "name": "stdout",
     "output_type": "stream",
     "text": [
      "Looking in indexes: https://repo.forge.lmig.com/api/pypi/python/simple\n",
      "Requirement already satisfied: soda-core==3.2.1 in /opt/cortex-installs/miniconda/envs/cortex-python3/lib/python3.12/site-packages (3.2.1)\n",
      "Requirement already satisfied: markupsafe<=2.1.2,>=2.0.1 in /opt/cortex-installs/miniconda/envs/cortex-python3/lib/python3.12/site-packages (from soda-core==3.2.1) (2.1.2)\n",
      "Requirement already satisfied: Jinja2<4.0,>=2.11 in /opt/cortex-installs/miniconda/envs/cortex-python3/lib/python3.12/site-packages (from soda-core==3.2.1) (3.1.4)\n",
      "Requirement already satisfied: click~=8.0 in /opt/cortex-installs/miniconda/envs/cortex-python3/lib/python3.12/site-packages (from soda-core==3.2.1) (8.1.7)\n",
      "Requirement already satisfied: ruamel.yaml<0.18.0,>=0.17.0 in /opt/cortex-installs/miniconda/envs/cortex-python3/lib/python3.12/site-packages (from soda-core==3.2.1) (0.17.40)\n",
      "Requirement already satisfied: requests~=2.28 in /opt/cortex-installs/miniconda/envs/cortex-python3/lib/python3.12/site-packages (from soda-core==3.2.1) (2.32.3)\n",
      "Requirement already satisfied: antlr4-python3-runtime~=4.11.1 in /opt/cortex-installs/miniconda/envs/cortex-python3/lib/python3.12/site-packages (from soda-core==3.2.1) (4.11.1)\n",
      "Requirement already satisfied: opentelemetry-api~=1.16.0 in /opt/cortex-installs/miniconda/envs/cortex-python3/lib/python3.12/site-packages (from soda-core==3.2.1) (1.16.0)\n",
      "Requirement already satisfied: opentelemetry-exporter-otlp-proto-http~=1.16.0 in /opt/cortex-installs/miniconda/envs/cortex-python3/lib/python3.12/site-packages (from soda-core==3.2.1) (1.16.0)\n",
      "Requirement already satisfied: sqlparse~=0.4 in /opt/cortex-installs/miniconda/envs/cortex-python3/lib/python3.12/site-packages (from soda-core==3.2.1) (0.5.1)\n",
      "Requirement already satisfied: inflect~=7.0 in /opt/cortex-installs/miniconda/envs/cortex-python3/lib/python3.12/site-packages (from soda-core==3.2.1) (7.3.1)\n",
      "Requirement already satisfied: pydantic<3.0.0,>=2.0.0 in /opt/cortex-installs/miniconda/envs/cortex-python3/lib/python3.12/site-packages (from soda-core==3.2.1) (2.8.2)\n",
      "Requirement already satisfied: more-itertools>=8.5.0 in /opt/cortex-installs/miniconda/envs/cortex-python3/lib/python3.12/site-packages (from inflect~=7.0->soda-core==3.2.1) (10.3.0)\n",
      "Requirement already satisfied: typeguard>=4.0.1 in /opt/cortex-installs/miniconda/envs/cortex-python3/lib/python3.12/site-packages (from inflect~=7.0->soda-core==3.2.1) (4.3.0)\n",
      "Requirement already satisfied: deprecated>=1.2.6 in /opt/cortex-installs/miniconda/envs/cortex-python3/lib/python3.12/site-packages (from opentelemetry-api~=1.16.0->soda-core==3.2.1) (1.2.14)\n",
      "Requirement already satisfied: setuptools>=16.0 in /opt/cortex-installs/miniconda/envs/cortex-python3/lib/python3.12/site-packages (from opentelemetry-api~=1.16.0->soda-core==3.2.1) (69.5.1)\n",
      "Requirement already satisfied: backoff<3.0.0,>=1.10.0 in /opt/cortex-installs/miniconda/envs/cortex-python3/lib/python3.12/site-packages (from opentelemetry-exporter-otlp-proto-http~=1.16.0->soda-core==3.2.1) (2.2.1)\n",
      "Requirement already satisfied: googleapis-common-protos~=1.52 in /opt/cortex-installs/miniconda/envs/cortex-python3/lib/python3.12/site-packages (from opentelemetry-exporter-otlp-proto-http~=1.16.0->soda-core==3.2.1) (1.63.2)\n",
      "Requirement already satisfied: opentelemetry-proto==1.16.0 in /opt/cortex-installs/miniconda/envs/cortex-python3/lib/python3.12/site-packages (from opentelemetry-exporter-otlp-proto-http~=1.16.0->soda-core==3.2.1) (1.16.0)\n",
      "Requirement already satisfied: opentelemetry-sdk~=1.16.0 in /opt/cortex-installs/miniconda/envs/cortex-python3/lib/python3.12/site-packages (from opentelemetry-exporter-otlp-proto-http~=1.16.0->soda-core==3.2.1) (1.16.0)\n",
      "Requirement already satisfied: protobuf<5.0,>=3.19 in /opt/cortex-installs/miniconda/envs/cortex-python3/lib/python3.12/site-packages (from opentelemetry-proto==1.16.0->opentelemetry-exporter-otlp-proto-http~=1.16.0->soda-core==3.2.1) (4.25.3)\n",
      "Requirement already satisfied: annotated-types>=0.4.0 in /opt/cortex-installs/miniconda/envs/cortex-python3/lib/python3.12/site-packages (from pydantic<3.0.0,>=2.0.0->soda-core==3.2.1) (0.7.0)\n",
      "Requirement already satisfied: pydantic-core==2.20.1 in /opt/cortex-installs/miniconda/envs/cortex-python3/lib/python3.12/site-packages (from pydantic<3.0.0,>=2.0.0->soda-core==3.2.1) (2.20.1)\n",
      "Requirement already satisfied: typing-extensions>=4.6.1 in /opt/cortex-installs/miniconda/envs/cortex-python3/lib/python3.12/site-packages (from pydantic<3.0.0,>=2.0.0->soda-core==3.2.1) (4.12.2)\n",
      "Requirement already satisfied: charset-normalizer<4,>=2 in /opt/cortex-installs/miniconda/envs/cortex-python3/lib/python3.12/site-packages (from requests~=2.28->soda-core==3.2.1) (3.3.2)\n",
      "Requirement already satisfied: idna<4,>=2.5 in /opt/cortex-installs/miniconda/envs/cortex-python3/lib/python3.12/site-packages (from requests~=2.28->soda-core==3.2.1) (3.7)\n",
      "Requirement already satisfied: urllib3<3,>=1.21.1 in /opt/cortex-installs/miniconda/envs/cortex-python3/lib/python3.12/site-packages (from requests~=2.28->soda-core==3.2.1) (2.2.2)\n",
      "Requirement already satisfied: certifi>=2017.4.17 in /opt/cortex-installs/miniconda/envs/cortex-python3/lib/python3.12/site-packages (from requests~=2.28->soda-core==3.2.1) (2024.7.4)\n",
      "Requirement already satisfied: ruamel.yaml.clib>=0.2.7 in /opt/cortex-installs/miniconda/envs/cortex-python3/lib/python3.12/site-packages (from ruamel.yaml<0.18.0,>=0.17.0->soda-core==3.2.1) (0.2.8)\n",
      "Requirement already satisfied: wrapt<2,>=1.10 in /opt/cortex-installs/miniconda/envs/cortex-python3/lib/python3.12/site-packages (from deprecated>=1.2.6->opentelemetry-api~=1.16.0->soda-core==3.2.1) (1.16.0)\n",
      "Requirement already satisfied: opentelemetry-semantic-conventions==0.37b0 in /opt/cortex-installs/miniconda/envs/cortex-python3/lib/python3.12/site-packages (from opentelemetry-sdk~=1.16.0->opentelemetry-exporter-otlp-proto-http~=1.16.0->soda-core==3.2.1) (0.37b0)\n",
      "Looking in indexes: https://repo.forge.lmig.com/api/pypi/python/simple\n",
      "Requirement already satisfied: soda-core-contracts==3.2.1 in /opt/cortex-installs/miniconda/envs/cortex-python3/lib/python3.12/site-packages (3.2.1)\n",
      "Requirement already satisfied: soda-core==3.2.1 in /opt/cortex-installs/miniconda/envs/cortex-python3/lib/python3.12/site-packages (from soda-core-contracts==3.2.1) (3.2.1)\n",
      "Requirement already satisfied: markupsafe<=2.1.2,>=2.0.1 in /opt/cortex-installs/miniconda/envs/cortex-python3/lib/python3.12/site-packages (from soda-core==3.2.1->soda-core-contracts==3.2.1) (2.1.2)\n",
      "Requirement already satisfied: Jinja2<4.0,>=2.11 in /opt/cortex-installs/miniconda/envs/cortex-python3/lib/python3.12/site-packages (from soda-core==3.2.1->soda-core-contracts==3.2.1) (3.1.4)\n",
      "Requirement already satisfied: click~=8.0 in /opt/cortex-installs/miniconda/envs/cortex-python3/lib/python3.12/site-packages (from soda-core==3.2.1->soda-core-contracts==3.2.1) (8.1.7)\n",
      "Requirement already satisfied: ruamel.yaml<0.18.0,>=0.17.0 in /opt/cortex-installs/miniconda/envs/cortex-python3/lib/python3.12/site-packages (from soda-core==3.2.1->soda-core-contracts==3.2.1) (0.17.40)\n",
      "Requirement already satisfied: requests~=2.28 in /opt/cortex-installs/miniconda/envs/cortex-python3/lib/python3.12/site-packages (from soda-core==3.2.1->soda-core-contracts==3.2.1) (2.32.3)\n",
      "Requirement already satisfied: antlr4-python3-runtime~=4.11.1 in /opt/cortex-installs/miniconda/envs/cortex-python3/lib/python3.12/site-packages (from soda-core==3.2.1->soda-core-contracts==3.2.1) (4.11.1)\n",
      "Requirement already satisfied: opentelemetry-api~=1.16.0 in /opt/cortex-installs/miniconda/envs/cortex-python3/lib/python3.12/site-packages (from soda-core==3.2.1->soda-core-contracts==3.2.1) (1.16.0)\n",
      "Requirement already satisfied: opentelemetry-exporter-otlp-proto-http~=1.16.0 in /opt/cortex-installs/miniconda/envs/cortex-python3/lib/python3.12/site-packages (from soda-core==3.2.1->soda-core-contracts==3.2.1) (1.16.0)\n",
      "Requirement already satisfied: sqlparse~=0.4 in /opt/cortex-installs/miniconda/envs/cortex-python3/lib/python3.12/site-packages (from soda-core==3.2.1->soda-core-contracts==3.2.1) (0.5.1)\n",
      "Requirement already satisfied: inflect~=7.0 in /opt/cortex-installs/miniconda/envs/cortex-python3/lib/python3.12/site-packages (from soda-core==3.2.1->soda-core-contracts==3.2.1) (7.3.1)\n",
      "Requirement already satisfied: pydantic<3.0.0,>=2.0.0 in /opt/cortex-installs/miniconda/envs/cortex-python3/lib/python3.12/site-packages (from soda-core==3.2.1->soda-core-contracts==3.2.1) (2.8.2)\n",
      "Requirement already satisfied: more-itertools>=8.5.0 in /opt/cortex-installs/miniconda/envs/cortex-python3/lib/python3.12/site-packages (from inflect~=7.0->soda-core==3.2.1->soda-core-contracts==3.2.1) (10.3.0)\n",
      "Requirement already satisfied: typeguard>=4.0.1 in /opt/cortex-installs/miniconda/envs/cortex-python3/lib/python3.12/site-packages (from inflect~=7.0->soda-core==3.2.1->soda-core-contracts==3.2.1) (4.3.0)\n",
      "Requirement already satisfied: deprecated>=1.2.6 in /opt/cortex-installs/miniconda/envs/cortex-python3/lib/python3.12/site-packages (from opentelemetry-api~=1.16.0->soda-core==3.2.1->soda-core-contracts==3.2.1) (1.2.14)\n",
      "Requirement already satisfied: setuptools>=16.0 in /opt/cortex-installs/miniconda/envs/cortex-python3/lib/python3.12/site-packages (from opentelemetry-api~=1.16.0->soda-core==3.2.1->soda-core-contracts==3.2.1) (69.5.1)\n",
      "Requirement already satisfied: backoff<3.0.0,>=1.10.0 in /opt/cortex-installs/miniconda/envs/cortex-python3/lib/python3.12/site-packages (from opentelemetry-exporter-otlp-proto-http~=1.16.0->soda-core==3.2.1->soda-core-contracts==3.2.1) (2.2.1)\n",
      "Requirement already satisfied: googleapis-common-protos~=1.52 in /opt/cortex-installs/miniconda/envs/cortex-python3/lib/python3.12/site-packages (from opentelemetry-exporter-otlp-proto-http~=1.16.0->soda-core==3.2.1->soda-core-contracts==3.2.1) (1.63.2)\n",
      "Requirement already satisfied: opentelemetry-proto==1.16.0 in /opt/cortex-installs/miniconda/envs/cortex-python3/lib/python3.12/site-packages (from opentelemetry-exporter-otlp-proto-http~=1.16.0->soda-core==3.2.1->soda-core-contracts==3.2.1) (1.16.0)\n",
      "Requirement already satisfied: opentelemetry-sdk~=1.16.0 in /opt/cortex-installs/miniconda/envs/cortex-python3/lib/python3.12/site-packages (from opentelemetry-exporter-otlp-proto-http~=1.16.0->soda-core==3.2.1->soda-core-contracts==3.2.1) (1.16.0)\n",
      "Requirement already satisfied: protobuf<5.0,>=3.19 in /opt/cortex-installs/miniconda/envs/cortex-python3/lib/python3.12/site-packages (from opentelemetry-proto==1.16.0->opentelemetry-exporter-otlp-proto-http~=1.16.0->soda-core==3.2.1->soda-core-contracts==3.2.1) (4.25.3)\n",
      "Requirement already satisfied: annotated-types>=0.4.0 in /opt/cortex-installs/miniconda/envs/cortex-python3/lib/python3.12/site-packages (from pydantic<3.0.0,>=2.0.0->soda-core==3.2.1->soda-core-contracts==3.2.1) (0.7.0)\n",
      "Requirement already satisfied: pydantic-core==2.20.1 in /opt/cortex-installs/miniconda/envs/cortex-python3/lib/python3.12/site-packages (from pydantic<3.0.0,>=2.0.0->soda-core==3.2.1->soda-core-contracts==3.2.1) (2.20.1)\n",
      "Requirement already satisfied: typing-extensions>=4.6.1 in /opt/cortex-installs/miniconda/envs/cortex-python3/lib/python3.12/site-packages (from pydantic<3.0.0,>=2.0.0->soda-core==3.2.1->soda-core-contracts==3.2.1) (4.12.2)\n",
      "Requirement already satisfied: charset-normalizer<4,>=2 in /opt/cortex-installs/miniconda/envs/cortex-python3/lib/python3.12/site-packages (from requests~=2.28->soda-core==3.2.1->soda-core-contracts==3.2.1) (3.3.2)\n",
      "Requirement already satisfied: idna<4,>=2.5 in /opt/cortex-installs/miniconda/envs/cortex-python3/lib/python3.12/site-packages (from requests~=2.28->soda-core==3.2.1->soda-core-contracts==3.2.1) (3.7)\n",
      "Requirement already satisfied: urllib3<3,>=1.21.1 in /opt/cortex-installs/miniconda/envs/cortex-python3/lib/python3.12/site-packages (from requests~=2.28->soda-core==3.2.1->soda-core-contracts==3.2.1) (2.2.2)\n",
      "Requirement already satisfied: certifi>=2017.4.17 in /opt/cortex-installs/miniconda/envs/cortex-python3/lib/python3.12/site-packages (from requests~=2.28->soda-core==3.2.1->soda-core-contracts==3.2.1) (2024.7.4)\n",
      "Requirement already satisfied: ruamel.yaml.clib>=0.2.7 in /opt/cortex-installs/miniconda/envs/cortex-python3/lib/python3.12/site-packages (from ruamel.yaml<0.18.0,>=0.17.0->soda-core==3.2.1->soda-core-contracts==3.2.1) (0.2.8)\n",
      "Requirement already satisfied: wrapt<2,>=1.10 in /opt/cortex-installs/miniconda/envs/cortex-python3/lib/python3.12/site-packages (from deprecated>=1.2.6->opentelemetry-api~=1.16.0->soda-core==3.2.1->soda-core-contracts==3.2.1) (1.16.0)\n",
      "Requirement already satisfied: opentelemetry-semantic-conventions==0.37b0 in /opt/cortex-installs/miniconda/envs/cortex-python3/lib/python3.12/site-packages (from opentelemetry-sdk~=1.16.0->opentelemetry-exporter-otlp-proto-http~=1.16.0->soda-core==3.2.1->soda-core-contracts==3.2.1) (0.37b0)\n",
      "Looking in indexes: https://repo.forge.lmig.com/api/pypi/python/simple\n",
      "Requirement already satisfied: soda-core-postgres==3.2.1 in /opt/cortex-installs/miniconda/envs/cortex-python3/lib/python3.12/site-packages (3.2.1)\n",
      "Requirement already satisfied: soda-core==3.2.1 in /opt/cortex-installs/miniconda/envs/cortex-python3/lib/python3.12/site-packages (from soda-core-postgres==3.2.1) (3.2.1)\n",
      "Requirement already satisfied: psycopg2-binary<3.0,>=2.8.5 in /opt/cortex-installs/miniconda/envs/cortex-python3/lib/python3.12/site-packages (from soda-core-postgres==3.2.1) (2.9.9)\n",
      "Requirement already satisfied: markupsafe<=2.1.2,>=2.0.1 in /opt/cortex-installs/miniconda/envs/cortex-python3/lib/python3.12/site-packages (from soda-core==3.2.1->soda-core-postgres==3.2.1) (2.1.2)\n",
      "Requirement already satisfied: Jinja2<4.0,>=2.11 in /opt/cortex-installs/miniconda/envs/cortex-python3/lib/python3.12/site-packages (from soda-core==3.2.1->soda-core-postgres==3.2.1) (3.1.4)\n",
      "Requirement already satisfied: click~=8.0 in /opt/cortex-installs/miniconda/envs/cortex-python3/lib/python3.12/site-packages (from soda-core==3.2.1->soda-core-postgres==3.2.1) (8.1.7)\n",
      "Requirement already satisfied: ruamel.yaml<0.18.0,>=0.17.0 in /opt/cortex-installs/miniconda/envs/cortex-python3/lib/python3.12/site-packages (from soda-core==3.2.1->soda-core-postgres==3.2.1) (0.17.40)\n",
      "Requirement already satisfied: requests~=2.28 in /opt/cortex-installs/miniconda/envs/cortex-python3/lib/python3.12/site-packages (from soda-core==3.2.1->soda-core-postgres==3.2.1) (2.32.3)\n",
      "Requirement already satisfied: antlr4-python3-runtime~=4.11.1 in /opt/cortex-installs/miniconda/envs/cortex-python3/lib/python3.12/site-packages (from soda-core==3.2.1->soda-core-postgres==3.2.1) (4.11.1)\n",
      "Requirement already satisfied: opentelemetry-api~=1.16.0 in /opt/cortex-installs/miniconda/envs/cortex-python3/lib/python3.12/site-packages (from soda-core==3.2.1->soda-core-postgres==3.2.1) (1.16.0)\n",
      "Requirement already satisfied: opentelemetry-exporter-otlp-proto-http~=1.16.0 in /opt/cortex-installs/miniconda/envs/cortex-python3/lib/python3.12/site-packages (from soda-core==3.2.1->soda-core-postgres==3.2.1) (1.16.0)\n",
      "Requirement already satisfied: sqlparse~=0.4 in /opt/cortex-installs/miniconda/envs/cortex-python3/lib/python3.12/site-packages (from soda-core==3.2.1->soda-core-postgres==3.2.1) (0.5.1)\n",
      "Requirement already satisfied: inflect~=7.0 in /opt/cortex-installs/miniconda/envs/cortex-python3/lib/python3.12/site-packages (from soda-core==3.2.1->soda-core-postgres==3.2.1) (7.3.1)\n",
      "Requirement already satisfied: pydantic<3.0.0,>=2.0.0 in /opt/cortex-installs/miniconda/envs/cortex-python3/lib/python3.12/site-packages (from soda-core==3.2.1->soda-core-postgres==3.2.1) (2.8.2)\n",
      "Requirement already satisfied: more-itertools>=8.5.0 in /opt/cortex-installs/miniconda/envs/cortex-python3/lib/python3.12/site-packages (from inflect~=7.0->soda-core==3.2.1->soda-core-postgres==3.2.1) (10.3.0)\n",
      "Requirement already satisfied: typeguard>=4.0.1 in /opt/cortex-installs/miniconda/envs/cortex-python3/lib/python3.12/site-packages (from inflect~=7.0->soda-core==3.2.1->soda-core-postgres==3.2.1) (4.3.0)\n",
      "Requirement already satisfied: deprecated>=1.2.6 in /opt/cortex-installs/miniconda/envs/cortex-python3/lib/python3.12/site-packages (from opentelemetry-api~=1.16.0->soda-core==3.2.1->soda-core-postgres==3.2.1) (1.2.14)\n",
      "Requirement already satisfied: setuptools>=16.0 in /opt/cortex-installs/miniconda/envs/cortex-python3/lib/python3.12/site-packages (from opentelemetry-api~=1.16.0->soda-core==3.2.1->soda-core-postgres==3.2.1) (69.5.1)\n",
      "Requirement already satisfied: backoff<3.0.0,>=1.10.0 in /opt/cortex-installs/miniconda/envs/cortex-python3/lib/python3.12/site-packages (from opentelemetry-exporter-otlp-proto-http~=1.16.0->soda-core==3.2.1->soda-core-postgres==3.2.1) (2.2.1)\n",
      "Requirement already satisfied: googleapis-common-protos~=1.52 in /opt/cortex-installs/miniconda/envs/cortex-python3/lib/python3.12/site-packages (from opentelemetry-exporter-otlp-proto-http~=1.16.0->soda-core==3.2.1->soda-core-postgres==3.2.1) (1.63.2)\n",
      "Requirement already satisfied: opentelemetry-proto==1.16.0 in /opt/cortex-installs/miniconda/envs/cortex-python3/lib/python3.12/site-packages (from opentelemetry-exporter-otlp-proto-http~=1.16.0->soda-core==3.2.1->soda-core-postgres==3.2.1) (1.16.0)\n",
      "Requirement already satisfied: opentelemetry-sdk~=1.16.0 in /opt/cortex-installs/miniconda/envs/cortex-python3/lib/python3.12/site-packages (from opentelemetry-exporter-otlp-proto-http~=1.16.0->soda-core==3.2.1->soda-core-postgres==3.2.1) (1.16.0)\n",
      "Requirement already satisfied: protobuf<5.0,>=3.19 in /opt/cortex-installs/miniconda/envs/cortex-python3/lib/python3.12/site-packages (from opentelemetry-proto==1.16.0->opentelemetry-exporter-otlp-proto-http~=1.16.0->soda-core==3.2.1->soda-core-postgres==3.2.1) (4.25.3)\n",
      "Requirement already satisfied: annotated-types>=0.4.0 in /opt/cortex-installs/miniconda/envs/cortex-python3/lib/python3.12/site-packages (from pydantic<3.0.0,>=2.0.0->soda-core==3.2.1->soda-core-postgres==3.2.1) (0.7.0)\n",
      "Requirement already satisfied: pydantic-core==2.20.1 in /opt/cortex-installs/miniconda/envs/cortex-python3/lib/python3.12/site-packages (from pydantic<3.0.0,>=2.0.0->soda-core==3.2.1->soda-core-postgres==3.2.1) (2.20.1)\n",
      "Requirement already satisfied: typing-extensions>=4.6.1 in /opt/cortex-installs/miniconda/envs/cortex-python3/lib/python3.12/site-packages (from pydantic<3.0.0,>=2.0.0->soda-core==3.2.1->soda-core-postgres==3.2.1) (4.12.2)\n",
      "Requirement already satisfied: charset-normalizer<4,>=2 in /opt/cortex-installs/miniconda/envs/cortex-python3/lib/python3.12/site-packages (from requests~=2.28->soda-core==3.2.1->soda-core-postgres==3.2.1) (3.3.2)\n",
      "Requirement already satisfied: idna<4,>=2.5 in /opt/cortex-installs/miniconda/envs/cortex-python3/lib/python3.12/site-packages (from requests~=2.28->soda-core==3.2.1->soda-core-postgres==3.2.1) (3.7)\n",
      "Requirement already satisfied: urllib3<3,>=1.21.1 in /opt/cortex-installs/miniconda/envs/cortex-python3/lib/python3.12/site-packages (from requests~=2.28->soda-core==3.2.1->soda-core-postgres==3.2.1) (2.2.2)\n",
      "Requirement already satisfied: certifi>=2017.4.17 in /opt/cortex-installs/miniconda/envs/cortex-python3/lib/python3.12/site-packages (from requests~=2.28->soda-core==3.2.1->soda-core-postgres==3.2.1) (2024.7.4)\n",
      "Requirement already satisfied: ruamel.yaml.clib>=0.2.7 in /opt/cortex-installs/miniconda/envs/cortex-python3/lib/python3.12/site-packages (from ruamel.yaml<0.18.0,>=0.17.0->soda-core==3.2.1->soda-core-postgres==3.2.1) (0.2.8)\n",
      "Requirement already satisfied: wrapt<2,>=1.10 in /opt/cortex-installs/miniconda/envs/cortex-python3/lib/python3.12/site-packages (from deprecated>=1.2.6->opentelemetry-api~=1.16.0->soda-core==3.2.1->soda-core-postgres==3.2.1) (1.16.0)\n",
      "Requirement already satisfied: opentelemetry-semantic-conventions==0.37b0 in /opt/cortex-installs/miniconda/envs/cortex-python3/lib/python3.12/site-packages (from opentelemetry-sdk~=1.16.0->opentelemetry-exporter-otlp-proto-http~=1.16.0->soda-core==3.2.1->soda-core-postgres==3.2.1) (0.37b0)\n"
     ]
    }
   ],
   "source": [
    "!pip install --upgrade soda-core==3.2.1\n",
    "!pip install --upgrade soda-core-contracts==3.2.1\n",
    "!pip install --upgrade soda-core-postgres==3.2.1"
   ]
  },
  {
   "cell_type": "code",
   "execution_count": 23,
   "metadata": {},
   "outputs": [],
   "source": [
    "from soda.contracts.data_contract_translator import DataContractTranslator\n",
    "from soda.scan import Scan\n",
    "import logging\n",
    "from dotenv import load_dotenv\n",
    "import os\n",
    "import yaml\n",
    "import pandas as pd\n",
    "import json"
   ]
  },
  {
   "cell_type": "code",
   "execution_count": 24,
   "metadata": {},
   "outputs": [
    {
     "data": {
      "text/plain": [
       "True"
      ]
     },
     "execution_count": 24,
     "metadata": {},
     "output_type": "execute_result"
    }
   ],
   "source": [
    "load_dotenv()"
   ]
  },
  {
   "cell_type": "code",
   "execution_count": 25,
   "metadata": {},
   "outputs": [],
   "source": [
    "app_main_path=os.environ[\"APP_MAIN_PATH\"]\n",
    "datacontracts_path=os.environ[\"DATA_CONTRACTS_PATH\"]\n",
    "postgresql_conn_path=os.environ[\"POSTGRESQL_CONNECTION_YML_PATH\"]"
   ]
  },
  {
   "cell_type": "code",
   "execution_count": 29,
   "metadata": {},
   "outputs": [],
   "source": [
    "# Read the data contract file as a Python str\n",
    "dc_path=f\"{app_main_path}/{datacontracts_path}/03_vw_dim_lob.yml\"\n",
    "with open(dc_path) as infile:\n",
    "    data_contract_yaml_str: str = infile.read()\n"
   ]
  },
  {
   "cell_type": "code",
   "execution_count": 30,
   "metadata": {},
   "outputs": [],
   "source": [
    "# Translate the data contract standards into SodaCL\n",
    "data_contract_parser = DataContractTranslator()\n",
    "sodacl_yaml_str = data_contract_parser.translate_data_contract_yaml_str(data_contract_yaml_str)"
   ]
  },
  {
   "cell_type": "code",
   "execution_count": 31,
   "metadata": {},
   "outputs": [
    {
     "data": {
      "text/plain": [
       "2"
      ]
     },
     "execution_count": 31,
     "metadata": {},
     "output_type": "execute_result"
    }
   ],
   "source": [
    "# Execute the translated SodaCL checks in a scan\n",
    "scan = Scan()\n",
    "scan.set_data_source_name(\"adp\")\n",
    "scan.add_configuration_yaml_file(file_path=postgresql_conn_path)\n",
    "scan.add_sodacl_yaml_str(sodacl_yaml_str)\n",
    "scan.execute()"
   ]
  },
  {
   "cell_type": "code",
   "execution_count": 21,
   "metadata": {},
   "outputs": [],
   "source": [
    "scan.assert_no_checks_fail()"
   ]
  },
  {
   "cell_type": "code",
   "execution_count": null,
   "metadata": {},
   "outputs": [],
   "source": [
    "scan.get_checks_fail()[0].get_dict()"
   ]
  },
  {
   "cell_type": "code",
   "execution_count": 32,
   "metadata": {
    "collapsed": true,
    "jupyter": {
     "outputs_hidden": true
    }
   },
   "outputs": [
    {
     "data": {
      "text/plain": [
       "{'definitionName': None,\n",
       " 'defaultDataSource': 'adp',\n",
       " 'dataTimestamp': '2024-07-31T18:54:23+00:00',\n",
       " 'scanStartTimestamp': '2024-07-31T18:54:23+00:00',\n",
       " 'scanEndTimestamp': '2024-07-31T18:54:23+00:00',\n",
       " 'hasErrors': False,\n",
       " 'hasWarnings': False,\n",
       " 'hasFailures': True,\n",
       " 'metrics': [{'identity': 'metric-adp-vw_dim_lob-schema',\n",
       "   'metricName': 'schema',\n",
       "   'dataSourceName': 'adp',\n",
       "   'tableName': 'vw_dim_lob',\n",
       "   'partitionName': None,\n",
       "   'columnName': None,\n",
       "   'value': [{'columnName': 'lob_sk', 'sourceDataType': 'bigint'},\n",
       "    {'columnName': 'source_system', 'sourceDataType': 'character varying'},\n",
       "    {'columnName': 'lob_group1_description',\n",
       "     'sourceDataType': 'character varying'},\n",
       "    {'columnName': 'lob_group2_description',\n",
       "     'sourceDataType': 'character varying'},\n",
       "    {'columnName': 'lob_code', 'sourceDataType': 'character varying'},\n",
       "    {'columnName': 'lob_description', 'sourceDataType': 'character varying'},\n",
       "    {'columnName': 'database_operation_type',\n",
       "     'sourceDataType': 'character varying'},\n",
       "    {'columnName': 'origin_ts',\n",
       "     'sourceDataType': 'timestamp without time zone'},\n",
       "    {'columnName': 'current_record_flag',\n",
       "     'sourceDataType': 'character varying'}]}],\n",
       " 'checks': [{'identity': '4c07d50b',\n",
       "   'name': 'Schema Check',\n",
       "   'type': 'generic',\n",
       "   'definition': 'checks for vw_dim_lob:\\n  - schema:\\n      fail:\\n        when mismatching columns:\\n          lob_sk:\\n          source_system:\\n          lob_group1_description:\\n          lob_group2_description:\\n          lob_code:\\n          lob_description:\\n          database_operation_type:\\n          origin_ts:\\n          current_record_flag:\\n          columna_falsa:\\n',\n",
       "   'resourceAttributes': [],\n",
       "   'location': {'filePath': 'sodacl_string.yml', 'line': 2, 'col': 3},\n",
       "   'dataSource': 'adp',\n",
       "   'table': 'vw_dim_lob',\n",
       "   'filter': None,\n",
       "   'column': None,\n",
       "   'metrics': ['metric-adp-vw_dim_lob-schema'],\n",
       "   'outcome': 'fail',\n",
       "   'outcomeReasons': [],\n",
       "   'archetype': None,\n",
       "   'diagnostics': {'blocks': [{'type': 'csv',\n",
       "      'text': 'Column,Type\\nlob_sk,bigint\\nsource_system,character varying\\nlob_group1_description,character varying\\nlob_group2_description,character varying\\nlob_code,character varying\\nlob_description,character varying\\ndatabase_operation_type,character varying\\norigin_ts,timestamp without time zone\\ncurrent_record_flag,character varying',\n",
       "      'title': 'Schema'},\n",
       "     {'type': 'csv',\n",
       "      'text': 'Column,Event,Details\\ncolumna_falsa,:icon-fail: Required Column Missing, \\n',\n",
       "      'title': 'Diagnostics'}],\n",
       "    'preferredChart': 'bars',\n",
       "    'valueLabel': '1 schema event(s)',\n",
       "    'valueSeries': {'values': [{'label': 'fail',\n",
       "       'value': 1,\n",
       "       'outcome': 'fail'},\n",
       "      {'label': 'warn', 'value': 0, 'outcome': 'warn'},\n",
       "      {'label': 'pass', 'value': 8, 'outcome': 'pass'}]}}}],\n",
       " 'queries': [{'name': 'adp.vw_dim_lob.schema[vw_dim_lob]',\n",
       "   'dataSource': 'adp',\n",
       "   'table': 'vw_dim_lob',\n",
       "   'partition': None,\n",
       "   'column': None,\n",
       "   'sql': \"SELECT column_name, data_type, is_nullable \\nFROM SVV_COLUMNS \\nWHERE lower(table_name) = 'vw_dim_lob' \\n  AND lower(table_catalog) = 'adp_dwh' \\n  AND lower(table_schema) = 'gde_adp_dwh_vw_general'\\nORDER BY ORDINAL_POSITION\",\n",
       "   'exception': None,\n",
       "   'duration': '0:00:00.375008'}],\n",
       " 'automatedMonitoringChecks': [],\n",
       " 'profiling': [],\n",
       " 'metadata': [],\n",
       " 'logs': [{'level': 'INFO',\n",
       "   'message': 'Soda Core 3.2.1',\n",
       "   'timestamp': '2024-07-31T18:54:23+00:00',\n",
       "   'index': 19,\n",
       "   'doc': None,\n",
       "   'location': None},\n",
       "  {'level': 'INFO',\n",
       "   'message': 'Scan summary:',\n",
       "   'timestamp': '2024-07-31T18:54:23+00:00',\n",
       "   'index': 20,\n",
       "   'doc': None,\n",
       "   'location': None},\n",
       "  {'level': 'INFO',\n",
       "   'message': '1/1 check FAILED: ',\n",
       "   'timestamp': '2024-07-31T18:54:23+00:00',\n",
       "   'index': 21,\n",
       "   'doc': None,\n",
       "   'location': None},\n",
       "  {'level': 'INFO',\n",
       "   'message': '    vw_dim_lob in adp',\n",
       "   'timestamp': '2024-07-31T18:54:23+00:00',\n",
       "   'index': 22,\n",
       "   'doc': None,\n",
       "   'location': None},\n",
       "  {'level': 'INFO',\n",
       "   'message': '      Schema Check [FAILED]',\n",
       "   'timestamp': '2024-07-31T18:54:23+00:00',\n",
       "   'index': 23,\n",
       "   'doc': None,\n",
       "   'location': None},\n",
       "  {'level': 'INFO',\n",
       "   'message': '        fail_missing_column_names = [columna_falsa]',\n",
       "   'timestamp': '2024-07-31T18:54:23+00:00',\n",
       "   'index': 24,\n",
       "   'doc': None,\n",
       "   'location': None},\n",
       "  {'level': 'INFO',\n",
       "   'message': '        schema_measured = [lob_sk bigint, source_system character varying, lob_group1_description character varying, lob_group2_description character varying, lob_code character varying, lob_description character varying, database_operation_type character varying, origin_ts timestamp without time zone, current_record_flag character varying]',\n",
       "   'timestamp': '2024-07-31T18:54:23+00:00',\n",
       "   'index': 25,\n",
       "   'doc': None,\n",
       "   'location': None},\n",
       "  {'level': 'INFO',\n",
       "   'message': 'Oops! 1 failures. 0 warnings. 0 errors. 0 pass.',\n",
       "   'timestamp': '2024-07-31T18:54:23+00:00',\n",
       "   'index': 26,\n",
       "   'doc': None,\n",
       "   'location': None}]}"
      ]
     },
     "execution_count": 32,
     "metadata": {},
     "output_type": "execute_result"
    }
   ],
   "source": [
    "scan.build_scan_results()"
   ]
  },
  {
   "cell_type": "code",
   "execution_count": 35,
   "metadata": {},
   "outputs": [
    {
     "data": {
      "text/plain": [
       "{'identity': '4c07d50b',\n",
       " 'name': 'Schema Check',\n",
       " 'type': 'generic',\n",
       " 'definition': 'checks for vw_dim_lob:\\n  - schema:\\n      fail:\\n        when mismatching columns:\\n          lob_sk:\\n          source_system:\\n          lob_group1_description:\\n          lob_group2_description:\\n          lob_code:\\n          lob_description:\\n          database_operation_type:\\n          origin_ts:\\n          current_record_flag:\\n          columna_falsa:\\n',\n",
       " 'resourceAttributes': [],\n",
       " 'location': {'filePath': 'sodacl_string.yml', 'line': 2, 'col': 3},\n",
       " 'dataSource': 'adp',\n",
       " 'table': 'vw_dim_lob',\n",
       " 'filter': None,\n",
       " 'column': None,\n",
       " 'metrics': ['metric-adp-vw_dim_lob-schema'],\n",
       " 'outcome': 'fail',\n",
       " 'outcomeReasons': [],\n",
       " 'archetype': None,\n",
       " 'diagnostics': {'blocks': [{'type': 'csv',\n",
       "    'text': 'Column,Type\\nlob_sk,bigint\\nsource_system,character varying\\nlob_group1_description,character varying\\nlob_group2_description,character varying\\nlob_code,character varying\\nlob_description,character varying\\ndatabase_operation_type,character varying\\norigin_ts,timestamp without time zone\\ncurrent_record_flag,character varying',\n",
       "    'title': 'Schema'},\n",
       "   {'type': 'csv',\n",
       "    'text': 'Column,Event,Details\\ncolumna_falsa,:icon-fail: Required Column Missing, \\n',\n",
       "    'title': 'Diagnostics'}],\n",
       "  'preferredChart': 'bars',\n",
       "  'valueLabel': '1 schema event(s)',\n",
       "  'valueSeries': {'values': [{'label': <CheckOutcome.FAIL: 'fail'>,\n",
       "     'value': 1,\n",
       "     'outcome': <CheckOutcome.FAIL: 'fail'>},\n",
       "    {'label': <CheckOutcome.WARN: 'warn'>,\n",
       "     'value': 0,\n",
       "     'outcome': <CheckOutcome.WARN: 'warn'>},\n",
       "    {'label': <CheckOutcome.PASS: 'pass'>,\n",
       "     'value': 8,\n",
       "     'outcome': <CheckOutcome.PASS: 'pass'>}]}}}"
      ]
     },
     "execution_count": 35,
     "metadata": {},
     "output_type": "execute_result"
    }
   ],
   "source": [
    "scan.get_checks_fail()[0].get_dict()"
   ]
  },
  {
   "cell_type": "code",
   "execution_count": null,
   "metadata": {},
   "outputs": [],
   "source": [
    "scan.assert_no_checks_fail()\n",
    "scan.get_checks_fail()[0].get_dict()\n",
    "\n",
    "scan.build_scan_results()\n",
    "results = scan.build_scan_results()\n",
    "scan.get_all_checks_text()\n",
    "scan.get_checks_fail()"
   ]
  },
  {
   "cell_type": "code",
   "execution_count": null,
   "metadata": {},
   "outputs": [],
   "source": [
    "print(scan.get_all_checks_text())"
   ]
  },
  {
   "cell_type": "code",
   "execution_count": null,
   "metadata": {},
   "outputs": [],
   "source": [
    "scan.get_checks_fail()[0].get_dict()"
   ]
  },
  {
   "cell_type": "code",
   "execution_count": null,
   "metadata": {},
   "outputs": [],
   "source": [
    "scan.get_checks_fail_text()"
   ]
  }
 ],
 "metadata": {
  "kernelspec": {
   "display_name": "Cortex-Python3",
   "language": "python",
   "name": "python3"
  },
  "language_info": {
   "codemirror_mode": {
    "name": "ipython",
    "version": 3
   },
   "file_extension": ".py",
   "mimetype": "text/x-python",
   "name": "python",
   "nbconvert_exporter": "python",
   "pygments_lexer": "ipython3",
   "version": "3.12.4"
  }
 },
 "nbformat": 4,
 "nbformat_minor": 4
}
