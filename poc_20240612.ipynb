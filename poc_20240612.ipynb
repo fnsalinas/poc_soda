{
 "cells": [
  {
   "cell_type": "code",
   "execution_count": null,
   "metadata": {
    "collapsed": true,
    "jupyter": {
     "outputs_hidden": true
    }
   },
   "outputs": [],
   "source": [
    "!pip install -r requirements_nuevo.txt"
   ]
  },
  {
   "cell_type": "code",
   "execution_count": null,
   "metadata": {
    "collapsed": true,
    "jupyter": {
     "outputs_hidden": true
    }
   },
   "outputs": [],
   "source": [
    "/opt/cortex-installs/miniconda/envs/cortex-python3/bin//python -m pip install requests\n",
    "/opt/cortex-installs/miniconda/envs/cortex-python3/bin//python -m pip install pandas\n",
    "/opt/cortex-installs/miniconda/envs/cortex-python3/bin//python -m pip install psycopg2-binary\n",
    "/opt/cortex-installs/miniconda/envs/cortex-python3/bin//python -m pip install soda-core-contracts\n",
    "/opt/cortex-installs/miniconda/envs/cortex-python3/bin//python -m pip install soda-core-postgres\n",
    "/opt/cortex-installs/miniconda/envs/cortex-python3/bin//python -m pip install python-dotenv\n",
    "/opt/cortex-installs/miniconda/envs/cortex-python3/bin//python -m pip install pyyaml"
   ]
  },
  {
   "cell_type": "code",
   "execution_count": null,
   "metadata": {},
   "outputs": [],
   "source": [
    "!pip install requests\n",
    "!pip install pandas\n",
    "!pip install psycopg2-binary\n",
    "!pip install soda-core-contracts\n",
    "!pip install soda-core-postgres\n",
    "!pip install python-dotenv\n",
    "!pip install pyyaml"
   ]
  },
  {
   "cell_type": "code",
   "execution_count": null,
   "metadata": {},
   "outputs": [],
   "source": [
    "pip install --index-url https://pypi.cloud.soda.io/simple/ soda-scientific       "
   ]
  },
  {
   "cell_type": "code",
   "execution_count": null,
   "metadata": {
    "collapsed": true,
    "jupyter": {
     "outputs_hidden": true
    }
   },
   "outputs": [],
   "source": [
    "!pip list"
   ]
  },
  {
   "cell_type": "code",
   "execution_count": null,
   "metadata": {},
   "outputs": [],
   "source": [
    "!which python"
   ]
  },
  {
   "cell_type": "code",
   "execution_count": null,
   "metadata": {},
   "outputs": [],
   "source": [
    "!/opt/cortex-installs/miniconda/envs/cortex-python3/bin//python --version"
   ]
  },
  {
   "cell_type": "code",
   "execution_count": null,
   "metadata": {},
   "outputs": [],
   "source": [
    "!pip install requests\n",
    "!pip install pandas\n",
    "!pip install psycopg2-binary\n",
    "!pip install soda-core-contracts\n",
    "!pip install soda-core-postgres\n",
    "!pip install python-dotenv\n",
    "pip install pyyaml"
   ]
  },
  {
   "cell_type": "code",
   "execution_count": 8,
   "metadata": {},
   "outputs": [
    {
     "name": "stdout",
     "output_type": "stream",
     "text": [
      "\u001b[0;31mType:\u001b[0m        module\n",
      "\u001b[0;31mString form:\u001b[0m <module 'soda.contracts' (namespace)>\n",
      "\u001b[0;31mDocstring:\u001b[0m   <no docstring>"
     ]
    }
   ],
   "source": [
    "import soda.contracts as sc\n",
    "?sc"
   ]
  },
  {
   "cell_type": "code",
   "execution_count": 5,
   "metadata": {},
   "outputs": [
    {
     "ename": "ModuleNotFoundError",
     "evalue": "No module named 'soda.contracts.data_contract_translator'",
     "output_type": "error",
     "traceback": [
      "\u001b[0;31m---------------------------------------------------------------------------\u001b[0m",
      "\u001b[0;31mModuleNotFoundError\u001b[0m                       Traceback (most recent call last)",
      "Cell \u001b[0;32mIn[5], line 1\u001b[0m\n\u001b[0;32m----> 1\u001b[0m \u001b[39mfrom\u001b[39;00m \u001b[39msoda\u001b[39;00m\u001b[39m.\u001b[39;00m\u001b[39mcontracts\u001b[39;00m\u001b[39m.\u001b[39;00m\u001b[39mdata_contract_translator\u001b[39;00m \u001b[39mimport\u001b[39;00m DataContractTranslator\n\u001b[1;32m      2\u001b[0m \u001b[39mfrom\u001b[39;00m \u001b[39msoda\u001b[39;00m\u001b[39m.\u001b[39;00m\u001b[39mscan\u001b[39;00m \u001b[39mimport\u001b[39;00m Scan\n\u001b[1;32m      3\u001b[0m \u001b[39mimport\u001b[39;00m \u001b[39mlogging\u001b[39;00m\n",
      "\u001b[0;31mModuleNotFoundError\u001b[0m: No module named 'soda.contracts.data_contract_translator'"
     ]
    }
   ],
   "source": [
    "from soda.contracts.data_contract_translator import DataContractTranslator\n",
    "from soda.scan import Scan\n",
    "import logging\n",
    "from dotenv import load_dotenv\n",
    "import os\n",
    "import yaml\n",
    "import pandas as pd\n",
    "import json"
   ]
  },
  {
   "cell_type": "code",
   "execution_count": null,
   "metadata": {},
   "outputs": [],
   "source": [
    "load_dotenv()"
   ]
  },
  {
   "cell_type": "code",
   "execution_count": null,
   "metadata": {},
   "outputs": [],
   "source": [
    "app_main_path=os.environ[\"APP_MAIN_PATH\"]\n",
    "datacontracts_path=os.environ[\"DATA_CONTRACTS_PATH\"]\n",
    "postgresql_conn_path=os.environ[\"POSTGRESQL_CONNECTION_YML_PATH\"]"
   ]
  },
  {
   "cell_type": "code",
   "execution_count": null,
   "metadata": {},
   "outputs": [],
   "source": [
    "# Read the data contract file as a Python str\n",
    "dc_path=f\"{app_main_path}/{datacontracts_path}/02_sise_generales_tsuc.yml\"\n",
    "with open(dc_path) as infile:\n",
    "    data_contract_yaml_str: str = infile.read()\n"
   ]
  },
  {
   "cell_type": "code",
   "execution_count": null,
   "metadata": {},
   "outputs": [],
   "source": [
    "# Translate the data contract standards into SodaCL\n",
    "data_contract_parser = DataContractTranslator()\n",
    "sodacl_yaml_str = data_contract_parser.translate_data_contract_yaml_str(data_contract_yaml_str)"
   ]
  },
  {
   "cell_type": "code",
   "execution_count": null,
   "metadata": {},
   "outputs": [],
   "source": [
    "# Execute the translated SodaCL checks in a scan\n",
    "scan = Scan()\n",
    "scan.set_data_source_name(\"hdi\")\n",
    "scan.add_configuration_yaml_file(file_path=postgresql_conn_path)\n",
    "scan.add_sodacl_yaml_str(sodacl_yaml_str)\n",
    "scan.execute()"
   ]
  },
  {
   "cell_type": "code",
   "execution_count": null,
   "metadata": {},
   "outputs": [],
   "source": [
    "scan.assert_no_checks_fail()"
   ]
  },
  {
   "cell_type": "code",
   "execution_count": null,
   "metadata": {},
   "outputs": [],
   "source": [
    "scan.get_checks_fail()[0].get_dict()"
   ]
  },
  {
   "cell_type": "code",
   "execution_count": null,
   "metadata": {},
   "outputs": [],
   "source": [
    "scan.build_scan_results()"
   ]
  },
  {
   "cell_type": "code",
   "execution_count": null,
   "metadata": {},
   "outputs": [],
   "source": [
    "scan.assert_no_checks_fail()\n",
    "scan.get_checks_fail()[0].get_dict()\n",
    "\n",
    "scan.build_scan_results()\n",
    "results = scan.build_scan_results()\n",
    "scan.get_all_checks_text()\n",
    "scan.get_checks_fail()"
   ]
  },
  {
   "cell_type": "code",
   "execution_count": null,
   "metadata": {},
   "outputs": [],
   "source": [
    "print(scan.get_all_checks_text())"
   ]
  },
  {
   "cell_type": "code",
   "execution_count": null,
   "metadata": {},
   "outputs": [],
   "source": [
    "scan.get_checks_fail()[0].get_dict()"
   ]
  },
  {
   "cell_type": "code",
   "execution_count": null,
   "metadata": {},
   "outputs": [],
   "source": [
    "scan.get_checks_fail_text()"
   ]
  }
 ],
 "metadata": {
  "kernelspec": {
   "display_name": "Cortex-Python3",
   "language": "python",
   "name": "python3"
  },
  "language_info": {
   "codemirror_mode": {
    "name": "ipython",
    "version": 3
   },
   "file_extension": ".py",
   "mimetype": "text/x-python",
   "name": "python",
   "nbconvert_exporter": "python",
   "pygments_lexer": "ipython3",
   "version": "3.8.19"
  }
 },
 "nbformat": 4,
 "nbformat_minor": 4
}
